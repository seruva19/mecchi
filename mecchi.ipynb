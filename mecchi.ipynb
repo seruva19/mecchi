{
 "cells": [
  {
   "cell_type": "code",
   "execution_count": null,
   "metadata": {
    "vscode": {
     "languageId": "julia"
    }
   },
   "outputs": [],
   "source": [
    "use_localtunnel = True #@param {type:\"boolean\"}"
   ]
  },
  {
   "cell_type": "code",
   "execution_count": null,
   "metadata": {},
   "outputs": [],
   "source": [
    "!python --version\n",
    "!nvidia-smi\n",
    "\n",
    "import torch\n",
    "print(torch.__version__)"
   ]
  },
  {
   "cell_type": "code",
   "execution_count": null,
   "metadata": {
    "vscode": {
     "languageId": "julia"
    }
   },
   "outputs": [],
   "source": [
    "!git clone https://github.com/seruva19/mecchi.git\n",
    "%cd /content/mecchi"
   ]
  },
  {
   "cell_type": "code",
   "execution_count": null,
   "metadata": {
    "vscode": {
     "languageId": "julia"
    }
   },
   "outputs": [],
   "source": [
    "!pip install -r install/requirements.txt --ignore-installed blinker"
   ]
  },
  {
   "cell_type": "code",
   "execution_count": null,
   "metadata": {
    "vscode": {
     "languageId": "julia"
    }
   },
   "outputs": [],
   "source": [
    "!pip install -r install/torch.txt\n",
    "!pip install sentencepiece==0.1.99"
   ]
  },
  {
   "cell_type": "code",
   "execution_count": null,
   "metadata": {
    "vscode": {
     "languageId": "julia"
    }
   },
   "outputs": [],
   "source": [
    "!npm install --legacy-peer-deps"
   ]
  },
  {
   "cell_type": "code",
   "execution_count": null,
   "metadata": {
    "vscode": {
     "languageId": "julia"
    }
   },
   "outputs": [],
   "source": [
    "import os\n",
    "os.environ['OUT_DATA'] = '/content/mecchi/out_data'\n",
    "os.environ['ACTIVATE_VENV'] = str(False)\n",
    "os.environ['SKIP_PLUGINS'] = 'audioldm2'\n",
    "os.environ['SKIP_NODES'] = 'audioldm2'"
   ]
  },
  {
   "cell_type": "code",
   "execution_count": null,
   "metadata": {
    "vscode": {
     "languageId": "julia"
    }
   },
   "outputs": [],
   "source": [
    "if use_localtunnel:\n",
    "  !npm install -g localtunnel\n",
    "  lturl = !curl ipv4.icanhazip.com\n",
    "  print(\"endpoint IP for localtunnel:\")\n",
    "  print(lturl[0])\n",
    "else:\n",
    "  !wget -q https://github.com/cloudflare/cloudflared/releases/latest/download/cloudflared-linux-amd64.deb\n",
    "  !dpkg -i cloudflared-linux-amd64.deb"
   ]
  },
  {
   "cell_type": "code",
   "execution_count": null,
   "metadata": {
    "vscode": {
     "languageId": "julia"
    }
   },
   "outputs": [],
   "source": [
    "!kill -9 $(lsof -t -i tcp:4444)\n",
    "!kill -9 $(lsof -t -i tcp:5555)\n",
    "\n",
    "!npx vite & python src/mecchi.py & {\"cloudflared tunnel --url http://127.0.0.1:5555\" if use_flash_attention else \"cloudflared tunnel --url http://127.0.0.1:5555\"}"
   ]
  }
 ],
 "metadata": {
  "language_info": {
   "name": "python"
  }
 },
 "nbformat": 4,
 "nbformat_minor": 2
}
